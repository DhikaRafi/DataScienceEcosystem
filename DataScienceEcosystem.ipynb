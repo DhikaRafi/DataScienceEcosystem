{
 "cells": [
  {
   "cell_type": "markdown",
   "id": "250ad7a2-3528-4b44-8149-95c6570ab726",
   "metadata": {},
   "source": [
    "# Data Science Tools and Ecosystem"
   ]
  },
  {
   "cell_type": "markdown",
   "id": "78157c54-4187-4671-8282-a124f551601a",
   "metadata": {},
   "source": [
    "In this notebook, Data Science Tools and Ecosystem are summarized."
   ]
  },
  {
   "cell_type": "markdown",
   "id": "35cb6cfe-722d-45dc-9522-5cd6c924a68a",
   "metadata": {},
   "source": [
    "__Objectives:__"
   ]
  },
  {
   "cell_type": "markdown",
   "id": "e4380cbf-289d-4e11-b4e9-5d5555b1d5b0",
   "metadata": {},
   "source": [
    "- List popular languages for Data Science\n",
    "- List of libraries used by Data Scientists\n",
    "- List of Data Science Tools\n",
    "- Examples of evaluating arithmetic expressions in Python"
   ]
  },
  {
   "cell_type": "markdown",
   "id": "240d63e0-1430-4126-8626-874795ab944f",
   "metadata": {},
   "source": [
    "Some of the popular languages that Data Scientists use are:"
   ]
  },
  {
   "cell_type": "markdown",
   "id": "5306d9d3-1119-465c-827a-ac06cf08c44b",
   "metadata": {},
   "source": [
    "1. Python\n",
    "2. R\n",
    "3. C++"
   ]
  },
  {
   "cell_type": "markdown",
   "id": "4591e152-3807-4feb-b480-f92189dd2b12",
   "metadata": {},
   "source": [
    "Some of the commonly used libraries used by Data Scientists include:"
   ]
  },
  {
   "cell_type": "markdown",
   "id": "a6fd59d6-942a-441a-a36c-6bae7c2cfaa9",
   "metadata": {},
   "source": [
    "1. Pandas\n",
    "2. NumPy\n",
    "3. Matplotlib"
   ]
  },
  {
   "cell_type": "markdown",
   "id": "bce981a0-6e26-41cb-8c8a-3c7360ecabb2",
   "metadata": {},
   "source": [
    "|Data Science Tools|\n",
    "|------------------|\n",
    "|MySql|\n",
    "|Jupyter Notebook|\n",
    "|RStudio|"
   ]
  },
  {
   "cell_type": "markdown",
   "id": "19671b52-ff9e-431a-8085-465cd5491fb8",
   "metadata": {},
   "source": [
    "### Below are a few examples of evaluating arithmetic expressions in Python"
   ]
  },
  {
   "cell_type": "markdown",
   "id": "b12277e1-864e-4992-ba19-7afbfcd8fb31",
   "metadata": {},
   "source": [
    "_This a simple arithmetic expression to mutiply then add integers_"
   ]
  },
  {
   "cell_type": "code",
   "execution_count": 14,
   "id": "71be24fa-b45b-447f-95d2-cf3967854400",
   "metadata": {},
   "outputs": [
    {
     "data": {
      "text/plain": [
       "17"
      ]
     },
     "execution_count": 14,
     "metadata": {},
     "output_type": "execute_result"
    }
   ],
   "source": [
    "(3*4)+5"
   ]
  },
  {
   "cell_type": "markdown",
   "id": "519d7ace-bc6f-4c7d-9a80-5e48a3707529",
   "metadata": {},
   "source": [
    "_This will convert 200 minutes to hours by diving by 60_"
   ]
  },
  {
   "cell_type": "code",
   "execution_count": 16,
   "id": "e2427843-38c3-4d1b-94a5-aeaf31a37cf1",
   "metadata": {},
   "outputs": [
    {
     "data": {
      "text/plain": [
       "3.3333333333333335"
      ]
     },
     "execution_count": 16,
     "metadata": {},
     "output_type": "execute_result"
    }
   ],
   "source": [
    "minutes = 200\n",
    "hours = minutes / 60\n",
    "hours"
   ]
  },
  {
   "cell_type": "markdown",
   "id": "060a7203-122f-4fc3-a5f0-33deb8b80ae1",
   "metadata": {},
   "source": [
    "## Author"
   ]
  },
  {
   "cell_type": "markdown",
   "id": "05040be6-25c7-4046-928f-e6cfad0a10b8",
   "metadata": {},
   "source": [
    "Dhika Rafi"
   ]
  }
 ],
 "metadata": {
  "kernelspec": {
   "display_name": "Python 3 (ipykernel)",
   "language": "python",
   "name": "python3"
  },
  "language_info": {
   "codemirror_mode": {
    "name": "ipython",
    "version": 3
   },
   "file_extension": ".py",
   "mimetype": "text/x-python",
   "name": "python",
   "nbconvert_exporter": "python",
   "pygments_lexer": "ipython3",
   "version": "3.12.5"
  }
 },
 "nbformat": 4,
 "nbformat_minor": 5
}
